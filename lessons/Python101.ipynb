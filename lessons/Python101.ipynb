{
 "cells": [
  {
   "cell_type": "markdown",
   "metadata": {},
   "source": [
    "# Python Interactive session"
   ]
  },
  {
   "cell_type": "markdown",
   "metadata": {},
   "source": [
    "Printing text is easy with Python"
   ]
  },
  {
   "cell_type": "code",
   "execution_count": 1,
   "metadata": {
    "ExecuteTime": {
     "end_time": "2018-09-13T18:02:09.500008Z",
     "start_time": "2018-09-13T18:02:09.493818Z"
    }
   },
   "outputs": [
    {
     "name": "stdout",
     "output_type": "stream",
     "text": [
      "Hello, world\n"
     ]
    }
   ],
   "source": [
    "print(\"Hello, world\")"
   ]
  },
  {
   "cell_type": "markdown",
   "metadata": {},
   "source": [
    "For executing a script we can write python commands in a file and then execute it using <code>python filename</code>"
   ]
  },
  {
   "cell_type": "markdown",
   "metadata": {
    "ExecuteTime": {
     "end_time": "2018-09-13T14:31:09.263387Z",
     "start_time": "2018-09-13T14:31:09.251623Z"
    },
    "slideshow": {
     "slide_type": "slide"
    }
   },
   "source": [
    "In Python, variables have no data types. This is dynamic language and hence can be assigned variables on the fly."
   ]
  },
  {
   "cell_type": "code",
   "execution_count": 6,
   "metadata": {
    "ExecuteTime": {
     "end_time": "2018-09-13T14:32:44.874814Z",
     "start_time": "2018-09-13T14:32:44.864892Z"
    }
   },
   "outputs": [
    {
     "name": "stdout",
     "output_type": "stream",
     "text": [
      "1\n"
     ]
    }
   ],
   "source": [
    "x = 1\n",
    "print(x)"
   ]
  },
  {
   "cell_type": "code",
   "execution_count": 8,
   "metadata": {
    "ExecuteTime": {
     "end_time": "2018-09-13T14:33:02.126396Z",
     "start_time": "2018-09-13T14:33:02.119162Z"
    }
   },
   "outputs": [
    {
     "name": "stdout",
     "output_type": "stream",
     "text": [
      "your name\n"
     ]
    }
   ],
   "source": [
    "y = 'your name'\n",
    "print(y)"
   ]
  },
  {
   "cell_type": "markdown",
   "metadata": {},
   "source": [
    "We can get the type of a variable using <code>type()</code> function."
   ]
  },
  {
   "cell_type": "code",
   "execution_count": 11,
   "metadata": {
    "ExecuteTime": {
     "end_time": "2018-09-13T14:34:04.145929Z",
     "start_time": "2018-09-13T14:34:04.137224Z"
    }
   },
   "outputs": [
    {
     "name": "stdout",
     "output_type": "stream",
     "text": [
      "<class 'int'>\n",
      "<class 'str'>\n"
     ]
    }
   ],
   "source": [
    "print(type(x))\n",
    "print(type(y))"
   ]
  },
  {
   "cell_type": "code",
   "execution_count": 12,
   "metadata": {
    "ExecuteTime": {
     "end_time": "2018-09-13T14:35:45.771920Z",
     "start_time": "2018-09-13T14:35:45.766761Z"
    }
   },
   "outputs": [
    {
     "data": {
      "text/plain": [
       "float"
      ]
     },
     "execution_count": 12,
     "metadata": {},
     "output_type": "execute_result"
    }
   ],
   "source": [
    "type(3.14)"
   ]
  },
  {
   "cell_type": "markdown",
   "metadata": {},
   "source": [
    "We can also multiply string using python"
   ]
  },
  {
   "cell_type": "code",
   "execution_count": 13,
   "metadata": {
    "ExecuteTime": {
     "end_time": "2018-09-13T14:36:21.214680Z",
     "start_time": "2018-09-13T14:36:21.208416Z"
    }
   },
   "outputs": [
    {
     "data": {
      "text/plain": [
       "'boobooboo'"
      ]
     },
     "execution_count": 13,
     "metadata": {},
     "output_type": "execute_result"
    }
   ],
   "source": [
    "\"boo\" * 3"
   ]
  },
  {
   "cell_type": "markdown",
   "metadata": {},
   "source": [
    "Strings can be written in either single-quotes(') or double quotes(\").\n",
    "We can <bold>convert different datatypes</bold> using their class names."
   ]
  },
  {
   "cell_type": "code",
   "execution_count": 14,
   "metadata": {
    "ExecuteTime": {
     "end_time": "2018-09-13T14:37:52.899169Z",
     "start_time": "2018-09-13T14:37:52.891396Z"
    }
   },
   "outputs": [
    {
     "data": {
      "text/plain": [
       "2.0"
      ]
     },
     "execution_count": 14,
     "metadata": {},
     "output_type": "execute_result"
    }
   ],
   "source": [
    "float(2)"
   ]
  },
  {
   "cell_type": "code",
   "execution_count": 15,
   "metadata": {
    "ExecuteTime": {
     "end_time": "2018-09-13T14:37:56.871193Z",
     "start_time": "2018-09-13T14:37:56.864884Z"
    }
   },
   "outputs": [
    {
     "data": {
      "text/plain": [
       "2"
      ]
     },
     "execution_count": 15,
     "metadata": {},
     "output_type": "execute_result"
    }
   ],
   "source": [
    "int(2.5)"
   ]
  },
  {
   "cell_type": "code",
   "execution_count": 16,
   "metadata": {
    "ExecuteTime": {
     "end_time": "2018-09-13T14:38:03.222877Z",
     "start_time": "2018-09-13T14:38:03.217235Z"
    }
   },
   "outputs": [
    {
     "data": {
      "text/plain": [
       "'True'"
      ]
     },
     "execution_count": 16,
     "metadata": {},
     "output_type": "execute_result"
    }
   ],
   "source": [
    "str(True)"
   ]
  },
  {
   "cell_type": "code",
   "execution_count": 18,
   "metadata": {
    "ExecuteTime": {
     "end_time": "2018-09-13T14:38:24.236914Z",
     "start_time": "2018-09-13T14:38:24.222760Z"
    }
   },
   "outputs": [
    {
     "ename": "ValueError",
     "evalue": "invalid literal for int() with base 10: 'False'",
     "output_type": "error",
     "traceback": [
      "\u001b[0;31m---------------------------------------------------------------------------\u001b[0m",
      "\u001b[0;31mValueError\u001b[0m                                Traceback (most recent call last)",
      "\u001b[0;32m<ipython-input-18-9bd281d60d24>\u001b[0m in \u001b[0;36m<module>\u001b[0;34m()\u001b[0m\n\u001b[0;32m----> 1\u001b[0;31m \u001b[0mint\u001b[0m\u001b[0;34m(\u001b[0m\u001b[0;34m\"False\"\u001b[0m\u001b[0;34m)\u001b[0m \u001b[0;31m# it doesn't make sense so throws an error.\u001b[0m\u001b[0;34m\u001b[0m\u001b[0m\n\u001b[0m",
      "\u001b[0;31mValueError\u001b[0m: invalid literal for int() with base 10: 'False'"
     ]
    }
   ],
   "source": [
    "int(\"False\") # it doesn't make sense so throws an error."
   ]
  },
  {
   "cell_type": "markdown",
   "metadata": {},
   "source": [
    "Triple quotes can be used to make a multi-line string and they are also used to add documentation to functions and classes. We can also escape special characters using '\\' character."
   ]
  },
  {
   "cell_type": "code",
   "execution_count": 20,
   "metadata": {
    "ExecuteTime": {
     "end_time": "2018-09-13T14:41:33.203250Z",
     "start_time": "2018-09-13T14:41:33.195398Z"
    }
   },
   "outputs": [
    {
     "data": {
      "text/plain": [
       "4"
      ]
     },
     "execution_count": 20,
     "metadata": {},
     "output_type": "execute_result"
    }
   ],
   "source": [
    "i = \"team\"\n",
    "len(i) # returns length of string"
   ]
  },
  {
   "cell_type": "code",
   "execution_count": 21,
   "metadata": {
    "ExecuteTime": {
     "end_time": "2018-09-13T14:41:39.394005Z",
     "start_time": "2018-09-13T14:41:39.376531Z"
    }
   },
   "outputs": [
    {
     "data": {
      "text/plain": [
       "'e'"
      ]
     },
     "execution_count": 21,
     "metadata": {},
     "output_type": "execute_result"
    }
   ],
   "source": [
    "i[1]"
   ]
  },
  {
   "cell_type": "code",
   "execution_count": 23,
   "metadata": {
    "ExecuteTime": {
     "end_time": "2018-09-13T14:41:56.460572Z",
     "start_time": "2018-09-13T14:41:56.454348Z"
    }
   },
   "outputs": [
    {
     "data": {
      "text/plain": [
       "'a'"
      ]
     },
     "execution_count": 23,
     "metadata": {},
     "output_type": "execute_result"
    }
   ],
   "source": [
    "i[2:3]"
   ]
  },
  {
   "cell_type": "code",
   "execution_count": 24,
   "metadata": {
    "ExecuteTime": {
     "end_time": "2018-09-13T14:42:03.089933Z",
     "start_time": "2018-09-13T14:42:03.074050Z"
    }
   },
   "outputs": [
    {
     "data": {
      "text/plain": [
       "'tea'"
      ]
     },
     "execution_count": 24,
     "metadata": {},
     "output_type": "execute_result"
    }
   ],
   "source": [
    "i[:3]"
   ]
  },
  {
   "cell_type": "code",
   "execution_count": 25,
   "metadata": {
    "ExecuteTime": {
     "end_time": "2018-09-13T14:42:09.786139Z",
     "start_time": "2018-09-13T14:42:09.774743Z"
    }
   },
   "outputs": [
    {
     "data": {
      "text/plain": [
       "'am'"
      ]
     },
     "execution_count": 25,
     "metadata": {},
     "output_type": "execute_result"
    }
   ],
   "source": [
    "i[2:]"
   ]
  },
  {
   "cell_type": "code",
   "execution_count": 26,
   "metadata": {
    "ExecuteTime": {
     "end_time": "2018-09-13T14:42:14.830022Z",
     "start_time": "2018-09-13T14:42:14.821804Z"
    }
   },
   "outputs": [
    {
     "data": {
      "text/plain": [
       "'team'"
      ]
     },
     "execution_count": 26,
     "metadata": {},
     "output_type": "execute_result"
    }
   ],
   "source": [
    "i[:]"
   ]
  },
  {
   "cell_type": "code",
   "execution_count": 27,
   "metadata": {
    "ExecuteTime": {
     "end_time": "2018-09-13T14:42:18.557534Z",
     "start_time": "2018-09-13T14:42:18.551944Z"
    }
   },
   "outputs": [
    {
     "data": {
      "text/plain": [
       "'a'"
      ]
     },
     "execution_count": 27,
     "metadata": {},
     "output_type": "execute_result"
    }
   ],
   "source": [
    "i[-2]"
   ]
  },
  {
   "cell_type": "code",
   "execution_count": 28,
   "metadata": {
    "ExecuteTime": {
     "end_time": "2018-09-13T14:42:42.446779Z",
     "start_time": "2018-09-13T14:42:42.439297Z"
    }
   },
   "outputs": [
    {
     "data": {
      "text/plain": [
       "2"
      ]
     },
     "execution_count": 28,
     "metadata": {},
     "output_type": "execute_result"
    }
   ],
   "source": [
    "i.find('a')"
   ]
  },
  {
   "cell_type": "code",
   "execution_count": 29,
   "metadata": {
    "ExecuteTime": {
     "end_time": "2018-09-13T14:42:47.172101Z",
     "start_time": "2018-09-13T14:42:47.164262Z"
    }
   },
   "outputs": [
    {
     "data": {
      "text/plain": [
       "-1"
      ]
     },
     "execution_count": 29,
     "metadata": {},
     "output_type": "execute_result"
    }
   ],
   "source": [
    "i.find('o')"
   ]
  },
  {
   "cell_type": "code",
   "execution_count": 30,
   "metadata": {
    "ExecuteTime": {
     "end_time": "2018-09-13T14:43:00.081030Z",
     "start_time": "2018-09-13T14:43:00.076838Z"
    }
   },
   "outputs": [],
   "source": [
    "hello = \"hello\""
   ]
  },
  {
   "cell_type": "code",
   "execution_count": 31,
   "metadata": {
    "ExecuteTime": {
     "end_time": "2018-09-13T14:43:10.186997Z",
     "start_time": "2018-09-13T14:43:10.178872Z"
    }
   },
   "outputs": [
    {
     "data": {
      "text/plain": [
       "2"
      ]
     },
     "execution_count": 31,
     "metadata": {},
     "output_type": "execute_result"
    }
   ],
   "source": [
    "hello.find('l')"
   ]
  },
  {
   "cell_type": "code",
   "execution_count": 34,
   "metadata": {
    "ExecuteTime": {
     "end_time": "2018-09-13T14:43:36.634410Z",
     "start_time": "2018-09-13T14:43:36.627637Z"
    }
   },
   "outputs": [
    {
     "data": {
      "text/plain": [
       "3"
      ]
     },
     "execution_count": 34,
     "metadata": {},
     "output_type": "execute_result"
    }
   ],
   "source": [
    "hello.find('l',3) # start from third index and not from beginning"
   ]
  },
  {
   "cell_type": "markdown",
   "metadata": {},
   "source": [
    "## Functions\n",
    "\n",
    "Functions in Python are defined using <code>def</code> keyword. All function statements are indented to identify the block of statements. The function is invoked using `()`."
   ]
  },
  {
   "cell_type": "code",
   "execution_count": 36,
   "metadata": {
    "ExecuteTime": {
     "end_time": "2018-09-13T14:45:20.683798Z",
     "start_time": "2018-09-13T14:45:20.676543Z"
    }
   },
   "outputs": [
    {
     "name": "stdout",
     "output_type": "stream",
     "text": [
      "hello\n"
     ]
    }
   ],
   "source": [
    "def say_hello():\n",
    "    print(\"hello\")\n",
    "say_hello()"
   ]
  },
  {
   "cell_type": "markdown",
   "metadata": {},
   "source": [
    "Function can also take extra parameters. These are local variables and they are not accessible from outside the function. However, global variables are accessible inside the function."
   ]
  },
  {
   "cell_type": "code",
   "execution_count": 41,
   "metadata": {
    "ExecuteTime": {
     "end_time": "2018-09-13T14:47:18.305059Z",
     "start_time": "2018-09-13T14:47:18.300669Z"
    }
   },
   "outputs": [],
   "source": [
    "def say_hello(name):\n",
    "    print(\"Hello, \" + name)"
   ]
  },
  {
   "cell_type": "code",
   "execution_count": 42,
   "metadata": {
    "ExecuteTime": {
     "end_time": "2018-09-13T14:47:18.488130Z",
     "start_time": "2018-09-13T14:47:18.482141Z"
    }
   },
   "outputs": [
    {
     "name": "stdout",
     "output_type": "stream",
     "text": [
      "Hello, Piyush\n"
     ]
    }
   ],
   "source": [
    "say_hello(\"Piyush\")"
   ]
  },
  {
   "cell_type": "code",
   "execution_count": 43,
   "metadata": {
    "ExecuteTime": {
     "end_time": "2018-09-13T14:47:30.636107Z",
     "start_time": "2018-09-13T14:47:30.626570Z"
    }
   },
   "outputs": [
    {
     "name": "stdout",
     "output_type": "stream",
     "text": [
      "Hello, Piyush\n"
     ]
    }
   ],
   "source": [
    "name = \"Piyush\"\n",
    "say_hello(name)"
   ]
  },
  {
   "cell_type": "code",
   "execution_count": 44,
   "metadata": {
    "ExecuteTime": {
     "end_time": "2018-09-13T14:50:06.392331Z",
     "start_time": "2018-09-13T14:50:06.387909Z"
    }
   },
   "outputs": [],
   "source": [
    "def greet(name, greeting, number):\n",
    "    print(greeting * number + ', ' + name)"
   ]
  },
  {
   "cell_type": "code",
   "execution_count": 46,
   "metadata": {
    "ExecuteTime": {
     "end_time": "2018-09-13T14:51:05.664482Z",
     "start_time": "2018-09-13T14:51:05.655190Z"
    }
   },
   "outputs": [
    {
     "name": "stdout",
     "output_type": "stream",
     "text": [
      "hellohello, dolly\n"
     ]
    }
   ],
   "source": [
    "# We can call functions with keyword arguments in any order\n",
    "greet(greeting='hello', number=2, name='dolly')"
   ]
  },
  {
   "cell_type": "code",
   "execution_count": 48,
   "metadata": {
    "ExecuteTime": {
     "end_time": "2018-09-13T14:51:51.708675Z",
     "start_time": "2018-09-13T14:51:51.703673Z"
    }
   },
   "outputs": [
    {
     "name": "stdout",
     "output_type": "stream",
     "text": [
      "Hi, Elena\n"
     ]
    }
   ],
   "source": [
    "def greet(name, greeting=\"Hi\"):\n",
    "    print(greeting + ', ' + name)\n",
    "greet('Elena') # we can call by default arguments if they are defined"
   ]
  },
  {
   "cell_type": "code",
   "execution_count": 49,
   "metadata": {
    "ExecuteTime": {
     "end_time": "2018-09-13T14:52:24.301837Z",
     "start_time": "2018-09-13T14:52:24.295836Z"
    }
   },
   "outputs": [
    {
     "name": "stdout",
     "output_type": "stream",
     "text": [
      "Hello, Piyush\n"
     ]
    }
   ],
   "source": [
    "greet('Piyush', 'Hello')"
   ]
  },
  {
   "cell_type": "markdown",
   "metadata": {},
   "source": [
    "We can also accept any number of arguments using `*args`."
   ]
  },
  {
   "cell_type": "code",
   "execution_count": 50,
   "metadata": {
    "ExecuteTime": {
     "end_time": "2018-09-13T14:53:07.520884Z",
     "start_time": "2018-09-13T14:53:07.512905Z"
    }
   },
   "outputs": [
    {
     "name": "stdout",
     "output_type": "stream",
     "text": [
      "(1, 'fihs', 2)\n"
     ]
    }
   ],
   "source": [
    "def echo (*args):\n",
    "    print(args)\n",
    "echo (1,'fihs',2)"
   ]
  },
  {
   "cell_type": "markdown",
   "metadata": {},
   "source": [
    "This can be used to find the max, min, sum of arguments"
   ]
  },
  {
   "cell_type": "code",
   "execution_count": 53,
   "metadata": {
    "ExecuteTime": {
     "end_time": "2018-09-13T14:54:22.533558Z",
     "start_time": "2018-09-13T14:54:22.520998Z"
    }
   },
   "outputs": [
    {
     "name": "stdout",
     "output_type": "stream",
     "text": [
      "6\n",
      "5\n"
     ]
    }
   ],
   "source": [
    "def sum(*args):\n",
    "    sum = 0\n",
    "    for item in args:\n",
    "        sum += item\n",
    "    return sum\n",
    "print(sum(1,2,3))\n",
    "print(sum(2,3))"
   ]
  },
  {
   "cell_type": "markdown",
   "metadata": {},
   "source": [
    "We can also collect variable keyword arguments as dictionary using `**`."
   ]
  },
  {
   "cell_type": "code",
   "execution_count": 54,
   "metadata": {
    "ExecuteTime": {
     "end_time": "2018-09-13T14:55:09.940668Z",
     "start_time": "2018-09-13T14:55:09.932965Z"
    }
   },
   "outputs": [
    {
     "name": "stdout",
     "output_type": "stream",
     "text": [
      "{'a': 1, 'steak': 'sauce'}\n"
     ]
    }
   ],
   "source": [
    "def print_dict(**kwargs):\n",
    "    print(kwargs)\n",
    "print_dict(a=1, steak='sauce')"
   ]
  },
  {
   "cell_type": "markdown",
   "metadata": {
    "ExecuteTime": {
     "end_time": "2018-09-13T15:10:23.092235Z",
     "start_time": "2018-09-13T15:10:23.087906Z"
    }
   },
   "source": [
    "Python also provides useful modules with many functionalities built into it."
   ]
  },
  {
   "cell_type": "code",
   "execution_count": 57,
   "metadata": {
    "ExecuteTime": {
     "end_time": "2018-09-13T15:32:32.928868Z",
     "start_time": "2018-09-13T15:32:32.922157Z"
    }
   },
   "outputs": [
    {
     "data": {
      "text/plain": [
       "8.0"
      ]
     },
     "execution_count": 57,
     "metadata": {},
     "output_type": "execute_result"
    }
   ],
   "source": [
    "import math as m\n",
    "m.sqrt(64)"
   ]
  },
  {
   "cell_type": "code",
   "execution_count": 59,
   "metadata": {
    "ExecuteTime": {
     "end_time": "2018-09-13T15:33:32.971596Z",
     "start_time": "2018-09-13T15:33:32.963118Z"
    }
   },
   "outputs": [
    {
     "data": {
      "text/plain": [
       "5.0"
      ]
     },
     "execution_count": 59,
     "metadata": {},
     "output_type": "execute_result"
    }
   ],
   "source": [
    "def hypotenuse(a,b):\n",
    "    import math\n",
    "    return math.sqrt(a*a + b*b)\n",
    "hypotenuse(3,4)"
   ]
  },
  {
   "cell_type": "markdown",
   "metadata": {},
   "source": [
    "We can also import specific function from the module and use it."
   ]
  },
  {
   "cell_type": "code",
   "execution_count": 60,
   "metadata": {
    "ExecuteTime": {
     "end_time": "2018-09-13T15:38:53.108372Z",
     "start_time": "2018-09-13T15:38:53.101065Z"
    }
   },
   "outputs": [
    {
     "data": {
      "text/plain": [
       "8.0"
      ]
     },
     "execution_count": 60,
     "metadata": {},
     "output_type": "execute_result"
    }
   ],
   "source": [
    "from math import sqrt\n",
    "sqrt(64)"
   ]
  },
  {
   "cell_type": "code",
   "execution_count": 61,
   "metadata": {
    "ExecuteTime": {
     "end_time": "2018-09-13T15:39:00.089700Z",
     "start_time": "2018-09-13T15:39:00.075923Z"
    }
   },
   "outputs": [
    {
     "ename": "NameError",
     "evalue": "name 'floor' is not defined",
     "output_type": "error",
     "traceback": [
      "\u001b[0;31m---------------------------------------------------------------------------\u001b[0m",
      "\u001b[0;31mNameError\u001b[0m                                 Traceback (most recent call last)",
      "\u001b[0;32m<ipython-input-61-25928a274afb>\u001b[0m in \u001b[0;36m<module>\u001b[0;34m()\u001b[0m\n\u001b[0;32m----> 1\u001b[0;31m \u001b[0mfloor\u001b[0m\u001b[0;34m(\u001b[0m\u001b[0;36m1.2\u001b[0m\u001b[0;34m)\u001b[0m\u001b[0;34m\u001b[0m\u001b[0m\n\u001b[0m",
      "\u001b[0;31mNameError\u001b[0m: name 'floor' is not defined"
     ]
    }
   ],
   "source": [
    "floor(1.2)"
   ]
  },
  {
   "cell_type": "code",
   "execution_count": 63,
   "metadata": {
    "ExecuteTime": {
     "end_time": "2018-09-13T15:39:37.693722Z",
     "start_time": "2018-09-13T15:39:37.686452Z"
    }
   },
   "outputs": [
    {
     "data": {
      "text/plain": [
       "1"
      ]
     },
     "execution_count": 63,
     "metadata": {},
     "output_type": "execute_result"
    }
   ],
   "source": [
    "from math import *\n",
    "floor(1.2)"
   ]
  },
  {
   "cell_type": "markdown",
   "metadata": {},
   "source": [
    "Just as in OS, command shell searches for executable programs by searching the directories listed in PATH environment, Python alos finds modules by searching directories. The module search path is stored in `sys.path`."
   ]
  },
  {
   "cell_type": "code",
   "execution_count": 64,
   "metadata": {
    "ExecuteTime": {
     "end_time": "2018-09-13T15:45:15.919588Z",
     "start_time": "2018-09-13T15:45:15.906474Z"
    }
   },
   "outputs": [
    {
     "name": "stdout",
     "output_type": "stream",
     "text": [
      "['',\n",
      " '/usr/local/spark/python',\n",
      " '/usr/local/spark/python/lib/py4j-0.10.6-src.zip',\n",
      " '/opt/conda/lib/python36.zip',\n",
      " '/opt/conda/lib/python3.6',\n",
      " '/opt/conda/lib/python3.6/lib-dynload',\n",
      " '/opt/conda/lib/python3.6/site-packages',\n",
      " '/opt/conda/lib/python3.6/site-packages/Mako-1.0.7-py3.6.egg',\n",
      " '/opt/conda/lib/python3.6/site-packages/cycler-0.10.0-py3.6.egg',\n",
      " '/opt/conda/lib/python3.6/site-packages/IPython/extensions',\n",
      " '/home/ucsddse230/.ipython']\n"
     ]
    }
   ],
   "source": [
    "import sys\n",
    "from pprint import pprint\n",
    "pprint(sys.path)"
   ]
  },
  {
   "cell_type": "markdown",
   "metadata": {},
   "source": [
    "Python scripts uses shebang at the top specifying the Python environment used to execute the script.\n",
    "`#!/bin/python`"
   ]
  },
  {
   "cell_type": "markdown",
   "metadata": {},
   "source": [
    "### User Input\n",
    "\n",
    "We can take user input using `input()` function. We might need to cast it to specific data type as we expect them to be."
   ]
  },
  {
   "cell_type": "code",
   "execution_count": 66,
   "metadata": {
    "ExecuteTime": {
     "end_time": "2018-09-13T15:50:39.373839Z",
     "start_time": "2018-09-13T15:50:37.030648Z"
    }
   },
   "outputs": [
    {
     "name": "stdout",
     "output_type": "stream",
     "text": [
      "hi\n",
      "hi\n"
     ]
    }
   ],
   "source": [
    "x = input()\n",
    "print(x)"
   ]
  },
  {
   "cell_type": "code",
   "execution_count": 68,
   "metadata": {
    "ExecuteTime": {
     "end_time": "2018-09-13T15:51:17.428298Z",
     "start_time": "2018-09-13T15:51:16.140862Z"
    }
   },
   "outputs": [
    {
     "name": "stdout",
     "output_type": "stream",
     "text": [
      "Give me a number: 3\n"
     ]
    },
    {
     "data": {
      "text/plain": [
       "'3'"
      ]
     },
     "execution_count": 68,
     "metadata": {},
     "output_type": "execute_result"
    }
   ],
   "source": [
    "input(\"Give me a number: \") # this gives us a string, we will have to cast it to int"
   ]
  },
  {
   "cell_type": "markdown",
   "metadata": {},
   "source": [
    "We can also take command line arguments using `sys.argv`.\n",
    "The script can be executed using `python args.py one 2 two + one`\n",
    "\n",
    "```python\n",
    "import sys\n",
    "\n",
    "if len(sys.argv) < 2:\n",
    "    print(\"You've given me nothing\")\n",
    "else:\n",
    "    print(sys.argv[1] + \"? Well I disagree!\")\n",
    "```\n",
    "                     "
   ]
  },
  {
   "cell_type": "markdown",
   "metadata": {},
   "source": [
    "## Data Structures in Python\n",
    "\n",
    "Python offers various data structures including\n",
    "- Lists\n",
    "- Tuples\n",
    "- Dictionaries\n",
    "- Sets"
   ]
  },
  {
   "cell_type": "code",
   "execution_count": 71,
   "metadata": {
    "ExecuteTime": {
     "end_time": "2018-09-13T15:56:45.395140Z",
     "start_time": "2018-09-13T15:56:45.388338Z"
    }
   },
   "outputs": [
    {
     "data": {
      "text/plain": [
       "'harish'"
      ]
     },
     "execution_count": 71,
     "metadata": {},
     "output_type": "execute_result"
    }
   ],
   "source": [
    "boys = ['harish', 'naresh', 'piyush']\n",
    "boys[0]"
   ]
  },
  {
   "cell_type": "code",
   "execution_count": 72,
   "metadata": {
    "ExecuteTime": {
     "end_time": "2018-09-13T15:56:46.643127Z",
     "start_time": "2018-09-13T15:56:46.637209Z"
    }
   },
   "outputs": [],
   "source": [
    "empty = [] # Create empty list\n",
    "leer = list() # another way to create empty list"
   ]
  },
  {
   "cell_type": "code",
   "execution_count": 73,
   "metadata": {
    "ExecuteTime": {
     "end_time": "2018-09-13T15:56:55.592460Z",
     "start_time": "2018-09-13T15:56:55.586171Z"
    }
   },
   "outputs": [
    {
     "data": {
      "text/plain": [
       "'piyush'"
      ]
     },
     "execution_count": 73,
     "metadata": {},
     "output_type": "execute_result"
    }
   ],
   "source": [
    "boys[-1]"
   ]
  },
  {
   "cell_type": "markdown",
   "metadata": {},
   "source": [
    "We can also have mixed data types for the lists."
   ]
  },
  {
   "cell_type": "code",
   "execution_count": 75,
   "metadata": {
    "ExecuteTime": {
     "end_time": "2018-09-13T15:57:48.855231Z",
     "start_time": "2018-09-13T15:57:48.844701Z"
    }
   },
   "outputs": [
    {
     "name": "stdout",
     "output_type": "stream",
     "text": [
      "<class 'list'>\n",
      "<class 'str'>\n"
     ]
    }
   ],
   "source": [
    "mixed = [1, 'two', 3.14]\n",
    "print(type(mixed))\n",
    "print(type(mixed[1]))"
   ]
  },
  {
   "cell_type": "code",
   "execution_count": 77,
   "metadata": {
    "ExecuteTime": {
     "end_time": "2018-09-13T16:01:14.143610Z",
     "start_time": "2018-09-13T16:01:14.138376Z"
    }
   },
   "outputs": [
    {
     "data": {
      "text/plain": [
       "['90,', '85,', '92,', '100']"
      ]
     },
     "execution_count": 77,
     "metadata": {},
     "output_type": "execute_result"
    }
   ],
   "source": [
    "grades_line = \"90, 85, 92, 100\"\n",
    "grades_line.split() # without specifying character, it separates on white space."
   ]
  },
  {
   "cell_type": "code",
   "execution_count": 78,
   "metadata": {
    "ExecuteTime": {
     "end_time": "2018-09-13T16:01:18.362085Z",
     "start_time": "2018-09-13T16:01:18.353940Z"
    }
   },
   "outputs": [
    {
     "data": {
      "text/plain": [
       "['90', ' 85', ' 92', ' 100']"
      ]
     },
     "execution_count": 78,
     "metadata": {},
     "output_type": "execute_result"
    }
   ],
   "source": [
    "grades_line.split(',')"
   ]
  },
  {
   "cell_type": "code",
   "execution_count": 79,
   "metadata": {
    "ExecuteTime": {
     "end_time": "2018-09-13T16:02:11.706459Z",
     "start_time": "2018-09-13T16:02:11.692174Z"
    }
   },
   "outputs": [
    {
     "data": {
      "text/plain": [
       "['a',\n",
       " 'b',\n",
       " 'c',\n",
       " 'd',\n",
       " 'e',\n",
       " 'f',\n",
       " 'g',\n",
       " 'h',\n",
       " 'i',\n",
       " 'j',\n",
       " 'k',\n",
       " 'l',\n",
       " 'm',\n",
       " 'n',\n",
       " 'o',\n",
       " 'p',\n",
       " 'q',\n",
       " 'r',\n",
       " 's',\n",
       " 't',\n",
       " 'u',\n",
       " 'v',\n",
       " 'w',\n",
       " 'x',\n",
       " 'y',\n",
       " 'z']"
      ]
     },
     "execution_count": 79,
     "metadata": {},
     "output_type": "execute_result"
    }
   ],
   "source": [
    "list('abcdefghijklmnopqrstuvwxyz')"
   ]
  },
  {
   "cell_type": "code",
   "execution_count": 83,
   "metadata": {
    "ExecuteTime": {
     "end_time": "2018-09-13T16:03:23.957614Z",
     "start_time": "2018-09-13T16:03:23.950464Z"
    }
   },
   "outputs": [
    {
     "name": "stdout",
     "output_type": "stream",
     "text": [
      "True\n",
      "False\n"
     ]
    }
   ],
   "source": [
    "# We can find if an item exists in a list\n",
    "print('piyush' in boys)\n",
    "print('ankit' in boys)"
   ]
  },
  {
   "cell_type": "code",
   "execution_count": 84,
   "metadata": {
    "ExecuteTime": {
     "end_time": "2018-09-13T16:04:27.096076Z",
     "start_time": "2018-09-13T16:04:27.086451Z"
    }
   },
   "outputs": [
    {
     "data": {
      "text/plain": [
       "['harish', 'naresh', 'piyush', 'wendy', 'annie', 'bebe']"
      ]
     },
     "execution_count": 84,
     "metadata": {},
     "output_type": "execute_result"
    }
   ],
   "source": [
    "girls = ['wendy', 'annie', 'bebe']\n",
    "boys + girls"
   ]
  },
  {
   "cell_type": "code",
   "execution_count": 85,
   "metadata": {
    "ExecuteTime": {
     "end_time": "2018-09-13T16:04:57.492078Z",
     "start_time": "2018-09-13T16:04:57.484093Z"
    }
   },
   "outputs": [
    {
     "data": {
      "text/plain": [
       "['hi', 'hi', 'hi', 'hi', 'hi']"
      ]
     },
     "execution_count": 85,
     "metadata": {},
     "output_type": "execute_result"
    }
   ],
   "source": [
    "# The * operator repeats a list to produce a new list\n",
    "['hi'] * 5"
   ]
  },
  {
   "cell_type": "code",
   "execution_count": 86,
   "metadata": {
    "ExecuteTime": {
     "end_time": "2018-09-13T16:07:30.071757Z",
     "start_time": "2018-09-13T16:07:30.067217Z"
    }
   },
   "outputs": [
    {
     "data": {
      "text/plain": [
       "3"
      ]
     },
     "execution_count": 86,
     "metadata": {},
     "output_type": "execute_result"
    }
   ],
   "source": [
    "len(boys)"
   ]
  },
  {
   "cell_type": "code",
   "execution_count": 88,
   "metadata": {
    "ExecuteTime": {
     "end_time": "2018-09-13T16:08:22.281351Z",
     "start_time": "2018-09-13T16:08:22.271681Z"
    }
   },
   "outputs": [
    {
     "name": "stdout",
     "output_type": "stream",
     "text": [
      "-1\n",
      "34\n"
     ]
    }
   ],
   "source": [
    "numbers = [34,2,5,0, -1]\n",
    "print(min(numbers))\n",
    "print(max(numbers))"
   ]
  },
  {
   "cell_type": "code",
   "execution_count": 90,
   "metadata": {
    "ExecuteTime": {
     "end_time": "2018-09-13T16:08:55.389349Z",
     "start_time": "2018-09-13T16:08:55.380161Z"
    }
   },
   "outputs": [
    {
     "data": {
      "text/plain": [
       "'wendy'"
      ]
     },
     "execution_count": 90,
     "metadata": {},
     "output_type": "execute_result"
    }
   ],
   "source": [
    "max(boys + girls)"
   ]
  },
  {
   "cell_type": "code",
   "execution_count": 95,
   "metadata": {
    "ExecuteTime": {
     "end_time": "2018-09-13T16:10:50.013742Z",
     "start_time": "2018-09-13T16:10:50.004033Z"
    }
   },
   "outputs": [
    {
     "data": {
      "text/plain": [
       "['hi', 'hi', 'hi', 'hi']"
      ]
     },
     "execution_count": 95,
     "metadata": {},
     "output_type": "execute_result"
    }
   ],
   "source": [
    "# We can delete specific element from a list using del keyword.\n",
    "five_his = ['hi'] * 5\n",
    "del five_his[2]\n",
    "five_his"
   ]
  },
  {
   "cell_type": "markdown",
   "metadata": {},
   "source": [
    "We cannot delete the whole list. It is an object. Methods are invoked on object by appending a dot and the method name."
   ]
  },
  {
   "cell_type": "code",
   "execution_count": 96,
   "metadata": {
    "ExecuteTime": {
     "end_time": "2018-09-13T16:33:58.618823Z",
     "start_time": "2018-09-13T16:33:58.592201Z"
    }
   },
   "outputs": [
    {
     "data": {
      "text/plain": [
       "['bird', 'bird', 'bird', 'goes', 'along', 'the', 'bird']"
      ]
     },
     "execution_count": 96,
     "metadata": {},
     "output_type": "execute_result"
    }
   ],
   "source": [
    "surfin_bird = \"bird bird bird goes along the bird\".split()\n",
    "surfin_bird"
   ]
  },
  {
   "cell_type": "code",
   "execution_count": 97,
   "metadata": {
    "ExecuteTime": {
     "end_time": "2018-09-13T16:34:07.352987Z",
     "start_time": "2018-09-13T16:34:07.325966Z"
    }
   },
   "outputs": [
    {
     "data": {
      "text/plain": [
       "4"
      ]
     },
     "execution_count": 97,
     "metadata": {},
     "output_type": "execute_result"
    }
   ],
   "source": [
    "surfin_bird.count('bird')"
   ]
  },
  {
   "cell_type": "code",
   "execution_count": 99,
   "metadata": {
    "ExecuteTime": {
     "end_time": "2018-09-13T16:34:21.556924Z",
     "start_time": "2018-09-13T16:34:21.514207Z"
    }
   },
   "outputs": [
    {
     "data": {
      "text/plain": [
       "['harish', 'naresh', 'Butters', 'Butters']"
      ]
     },
     "execution_count": 99,
     "metadata": {},
     "output_type": "execute_result"
    }
   ],
   "source": [
    "boys.append('Butters')\n",
    "boys"
   ]
  },
  {
   "cell_type": "code",
   "execution_count": 100,
   "metadata": {
    "ExecuteTime": {
     "end_time": "2018-09-13T17:07:52.127321Z",
     "start_time": "2018-09-13T17:07:52.115576Z"
    }
   },
   "outputs": [],
   "source": [
    "boys.remove('Butters') # remove the first occurence of 'Butters'"
   ]
  },
  {
   "cell_type": "code",
   "execution_count": 101,
   "metadata": {
    "ExecuteTime": {
     "end_time": "2018-09-13T17:07:58.281196Z",
     "start_time": "2018-09-13T17:07:58.262675Z"
    }
   },
   "outputs": [
    {
     "data": {
      "text/plain": [
       "['harish', 'naresh', 'Butters']"
      ]
     },
     "execution_count": 101,
     "metadata": {},
     "output_type": "execute_result"
    }
   ],
   "source": [
    "boys"
   ]
  },
  {
   "cell_type": "code",
   "execution_count": 102,
   "metadata": {
    "ExecuteTime": {
     "end_time": "2018-09-13T17:08:15.759361Z",
     "start_time": "2018-09-13T17:08:15.737876Z"
    }
   },
   "outputs": [
    {
     "data": {
      "text/plain": [
       "['harish', 'naresh', 'Butters', 'Tweak', 'Jimmy']"
      ]
     },
     "execution_count": 102,
     "metadata": {},
     "output_type": "execute_result"
    }
   ],
   "source": [
    "boys.extend(['Tweak', 'Jimmy'])\n",
    "boys"
   ]
  },
  {
   "cell_type": "code",
   "execution_count": 103,
   "metadata": {
    "ExecuteTime": {
     "end_time": "2018-09-13T17:08:50.742408Z",
     "start_time": "2018-09-13T17:08:50.730545Z"
    }
   },
   "outputs": [
    {
     "data": {
      "text/plain": [
       "'Jimmy'"
      ]
     },
     "execution_count": 103,
     "metadata": {},
     "output_type": "execute_result"
    }
   ],
   "source": [
    "boys.pop() # return the last element"
   ]
  },
  {
   "cell_type": "code",
   "execution_count": 105,
   "metadata": {
    "ExecuteTime": {
     "end_time": "2018-09-13T17:09:07.003439Z",
     "start_time": "2018-09-13T17:09:06.981238Z"
    }
   },
   "outputs": [
    {
     "data": {
      "text/plain": [
       "['harish', 'naresh', 'Butters', 'Tweak']"
      ]
     },
     "execution_count": 105,
     "metadata": {},
     "output_type": "execute_result"
    }
   ],
   "source": [
    "boys"
   ]
  },
  {
   "cell_type": "code",
   "execution_count": 108,
   "metadata": {
    "ExecuteTime": {
     "end_time": "2018-09-13T17:09:58.713449Z",
     "start_time": "2018-09-13T17:09:58.696451Z"
    }
   },
   "outputs": [
    {
     "data": {
      "text/plain": [
       "['Tweak', 'Butters', 'naresh', 'harish']"
      ]
     },
     "execution_count": 108,
     "metadata": {},
     "output_type": "execute_result"
    }
   ],
   "source": [
    "boys[::-1] # return reverse list"
   ]
  },
  {
   "cell_type": "code",
   "execution_count": 109,
   "metadata": {
    "ExecuteTime": {
     "end_time": "2018-09-13T17:10:24.711026Z",
     "start_time": "2018-09-13T17:10:24.696832Z"
    }
   },
   "outputs": [
    {
     "data": {
      "text/plain": [
       "['harish', 'naresh', 'Butters', 'Tweak']"
      ]
     },
     "execution_count": 109,
     "metadata": {},
     "output_type": "execute_result"
    }
   ],
   "source": [
    "brats = boys\n",
    "brats"
   ]
  },
  {
   "cell_type": "code",
   "execution_count": 110,
   "metadata": {
    "ExecuteTime": {
     "end_time": "2018-09-13T17:10:40.023140Z",
     "start_time": "2018-09-13T17:10:40.008451Z"
    }
   },
   "outputs": [
    {
     "data": {
      "text/plain": [
       "['harish', 'naresh', 'Butters', 'Tweak', 'Sam']"
      ]
     },
     "execution_count": 110,
     "metadata": {},
     "output_type": "execute_result"
    }
   ],
   "source": [
    "brats.append('Sam')\n",
    "boys"
   ]
  },
  {
   "cell_type": "markdown",
   "metadata": {},
   "source": [
    "Objects are referred by reference. Therefore, change in one will change the other."
   ]
  },
  {
   "cell_type": "code",
   "execution_count": 111,
   "metadata": {
    "ExecuteTime": {
     "end_time": "2018-09-13T17:11:58.880641Z",
     "start_time": "2018-09-13T17:11:58.860702Z"
    }
   },
   "outputs": [
    {
     "data": {
      "text/plain": [
       "['harish', 'naresh', 'Butters', 'Tweak', 'Sam', 'bebe', 'wendy']"
      ]
     },
     "execution_count": 111,
     "metadata": {},
     "output_type": "execute_result"
    }
   ],
   "source": [
    "# after reassignment, brats is not boys\n",
    "brats = brats + ['bebe', 'wendy']\n",
    "brats"
   ]
  },
  {
   "cell_type": "code",
   "execution_count": 112,
   "metadata": {
    "ExecuteTime": {
     "end_time": "2018-09-13T17:12:02.626962Z",
     "start_time": "2018-09-13T17:12:02.608184Z"
    }
   },
   "outputs": [
    {
     "data": {
      "text/plain": [
       "['harish', 'naresh', 'Butters', 'Tweak', 'Sam']"
      ]
     },
     "execution_count": 112,
     "metadata": {},
     "output_type": "execute_result"
    }
   ],
   "source": [
    "boys"
   ]
  },
  {
   "cell_type": "code",
   "execution_count": 114,
   "metadata": {
    "ExecuteTime": {
     "end_time": "2018-09-13T17:12:25.170289Z",
     "start_time": "2018-09-13T17:12:25.163399Z"
    }
   },
   "outputs": [
    {
     "data": {
      "text/plain": [
       "['harish', 'naresh']"
      ]
     },
     "execution_count": 114,
     "metadata": {},
     "output_type": "execute_result"
    }
   ],
   "source": [
    "first_two = boys[:2]\n",
    "first_two"
   ]
  },
  {
   "cell_type": "code",
   "execution_count": 115,
   "metadata": {
    "ExecuteTime": {
     "end_time": "2018-09-13T17:14:49.234973Z",
     "start_time": "2018-09-13T17:14:49.228957Z"
    }
   },
   "outputs": [
    {
     "data": {
      "text/plain": [
       "['harish', 'naresh', 'Butters', 'Tweak', 'Sam']"
      ]
     },
     "execution_count": 115,
     "metadata": {},
     "output_type": "execute_result"
    }
   ],
   "source": [
    "# slices on left hand side allows for flexible assignment\n",
    "boys"
   ]
  },
  {
   "cell_type": "code",
   "execution_count": 116,
   "metadata": {
    "ExecuteTime": {
     "end_time": "2018-09-13T17:15:06.095747Z",
     "start_time": "2018-09-13T17:15:06.088606Z"
    }
   },
   "outputs": [
    {
     "data": {
      "text/plain": [
       "['Randy', 'Sharon', 'Geralnd', 'Butters', 'Tweak', 'Sam']"
      ]
     },
     "execution_count": 116,
     "metadata": {},
     "output_type": "execute_result"
    }
   ],
   "source": [
    "boys[0:2] = ['Randy', 'Sharon', 'Geralnd']\n",
    "boys"
   ]
  },
  {
   "cell_type": "code",
   "execution_count": 117,
   "metadata": {
    "ExecuteTime": {
     "end_time": "2018-09-13T17:15:52.877637Z",
     "start_time": "2018-09-13T17:15:52.871109Z"
    }
   },
   "outputs": [
    {
     "data": {
      "text/plain": [
       "'R-E-S-P-E-C-T'"
      ]
     },
     "execution_count": 117,
     "metadata": {},
     "output_type": "execute_result"
    }
   ],
   "source": [
    "aretha = ['R','E','S','P','E','C','T']\n",
    "\"-\".join(aretha)"
   ]
  },
  {
   "cell_type": "code",
   "execution_count": 118,
   "metadata": {
    "ExecuteTime": {
     "end_time": "2018-09-13T17:15:59.714894Z",
     "start_time": "2018-09-13T17:15:59.710771Z"
    }
   },
   "outputs": [
    {
     "data": {
      "text/plain": [
       "['C', 'E', 'E', 'P', 'R', 'S', 'T']"
      ]
     },
     "execution_count": 118,
     "metadata": {},
     "output_type": "execute_result"
    }
   ],
   "source": [
    "sorted(aretha) # returns a new array"
   ]
  },
  {
   "cell_type": "code",
   "execution_count": 120,
   "metadata": {
    "ExecuteTime": {
     "end_time": "2018-09-13T17:16:22.936392Z",
     "start_time": "2018-09-13T17:16:22.930677Z"
    }
   },
   "outputs": [
    {
     "data": {
      "text/plain": [
       "['R', 'E', 'S', 'P', 'E', 'C', 'T']"
      ]
     },
     "execution_count": 120,
     "metadata": {},
     "output_type": "execute_result"
    }
   ],
   "source": [
    "aretha"
   ]
  },
  {
   "cell_type": "code",
   "execution_count": 121,
   "metadata": {
    "ExecuteTime": {
     "end_time": "2018-09-13T17:16:35.274452Z",
     "start_time": "2018-09-13T17:16:35.267259Z"
    }
   },
   "outputs": [
    {
     "data": {
      "text/plain": [
       "['C', 'E', 'E', 'P', 'R', 'S', 'T']"
      ]
     },
     "execution_count": 121,
     "metadata": {},
     "output_type": "execute_result"
    }
   ],
   "source": [
    "aretha.sort()\n",
    "aretha # sorts in line"
   ]
  },
  {
   "cell_type": "code",
   "execution_count": 123,
   "metadata": {
    "ExecuteTime": {
     "end_time": "2018-09-13T17:17:30.968346Z",
     "start_time": "2018-09-13T17:17:30.961109Z"
    }
   },
   "outputs": [
    {
     "data": {
      "text/plain": [
       "[100, 90, 95]"
      ]
     },
     "execution_count": 123,
     "metadata": {},
     "output_type": "execute_result"
    }
   ],
   "source": [
    "grades_line = ['Chris', 100, 90, 95]\n",
    "chris_grades = grades_line[1:]\n",
    "chris_grades"
   ]
  },
  {
   "cell_type": "markdown",
   "metadata": {
    "ExecuteTime": {
     "end_time": "2018-09-13T17:18:16.254131Z",
     "start_time": "2018-09-13T17:18:16.236303Z"
    }
   },
   "source": [
    "**Tuples** are like lists, but are immutable. Tuples can be used in assignments to \"unpack\" a sequence."
   ]
  },
  {
   "cell_type": "code",
   "execution_count": 127,
   "metadata": {
    "ExecuteTime": {
     "end_time": "2018-09-13T17:19:34.694034Z",
     "start_time": "2018-09-13T17:19:34.687801Z"
    }
   },
   "outputs": [
    {
     "data": {
      "text/plain": [
       "1"
      ]
     },
     "execution_count": 127,
     "metadata": {},
     "output_type": "execute_result"
    }
   ],
   "source": [
    "a,b = [1,2]\n",
    "a"
   ]
  },
  {
   "cell_type": "code",
   "execution_count": 128,
   "metadata": {
    "ExecuteTime": {
     "end_time": "2018-09-13T17:19:52.040841Z",
     "start_time": "2018-09-13T17:19:52.037447Z"
    }
   },
   "outputs": [],
   "source": [
    "# Tuple assignment can be used to swap values\n",
    "b,a = a,b"
   ]
  },
  {
   "cell_type": "code",
   "execution_count": 129,
   "metadata": {
    "ExecuteTime": {
     "end_time": "2018-09-13T17:19:56.319379Z",
     "start_time": "2018-09-13T17:19:56.308849Z"
    }
   },
   "outputs": [
    {
     "data": {
      "text/plain": [
       "(2, 1)"
      ]
     },
     "execution_count": 129,
     "metadata": {},
     "output_type": "execute_result"
    }
   ],
   "source": [
    "a,b"
   ]
  },
  {
   "cell_type": "markdown",
   "metadata": {},
   "source": [
    "**Dictionary** is a map from keys to values. Create dictionary with `{}`"
   ]
  },
  {
   "cell_type": "code",
   "execution_count": 130,
   "metadata": {
    "ExecuteTime": {
     "end_time": "2018-09-13T17:21:06.710226Z",
     "start_time": "2018-09-13T17:21:06.701959Z"
    }
   },
   "outputs": [
    {
     "data": {
      "text/plain": [
       "{'Georgia': 'Atlanta', 'Gujarat': 'Gandhinagar', 'Ontario': 'Ottawa'}"
      ]
     },
     "execution_count": 130,
     "metadata": {},
     "output_type": "execute_result"
    }
   ],
   "source": [
    "capitals = {}\n",
    "capitals['Georgia'] = 'Atlanta'\n",
    "capitals['Gujarat'] = 'Gandhinagar'\n",
    "capitals['Ontario'] = 'Ottawa'\n",
    "capitals"
   ]
  },
  {
   "cell_type": "code",
   "execution_count": 131,
   "metadata": {
    "ExecuteTime": {
     "end_time": "2018-09-13T17:21:17.243430Z",
     "start_time": "2018-09-13T17:21:17.235132Z"
    }
   },
   "outputs": [
    {
     "data": {
      "text/plain": [
       "'Ottawa'"
      ]
     },
     "execution_count": 131,
     "metadata": {},
     "output_type": "execute_result"
    }
   ],
   "source": [
    "capitals['Ontario']"
   ]
  },
  {
   "cell_type": "code",
   "execution_count": 132,
   "metadata": {
    "ExecuteTime": {
     "end_time": "2018-09-13T17:21:36.635609Z",
     "start_time": "2018-09-13T17:21:36.623674Z"
    }
   },
   "outputs": [
    {
     "data": {
      "text/plain": [
       "{'Georgia': 'Atlanta', 'Gujarat': 'Ahmedabad', 'Ontario': 'Ottawa'}"
      ]
     },
     "execution_count": 132,
     "metadata": {},
     "output_type": "execute_result"
    }
   ],
   "source": [
    "capitals['Gujarat'] = 'Ahmedabad'\n",
    "capitals"
   ]
  },
  {
   "cell_type": "code",
   "execution_count": 133,
   "metadata": {
    "ExecuteTime": {
     "end_time": "2018-09-13T17:22:04.756488Z",
     "start_time": "2018-09-13T17:22:04.749434Z"
    }
   },
   "outputs": [
    {
     "data": {
      "text/plain": [
       "{'Gujarat': 'Ahmedabad', 'Ontario': 'Ottawa'}"
      ]
     },
     "execution_count": 133,
     "metadata": {},
     "output_type": "execute_result"
    }
   ],
   "source": [
    "# remote a key value pair using 'del' statement.\n",
    "del capitals['Georgia']\n",
    "capitals"
   ]
  },
  {
   "cell_type": "code",
   "execution_count": 134,
   "metadata": {
    "ExecuteTime": {
     "end_time": "2018-09-13T17:22:44.425098Z",
     "start_time": "2018-09-13T17:22:44.419937Z"
    }
   },
   "outputs": [
    {
     "name": "stdout",
     "output_type": "stream",
     "text": [
      "False\n",
      "True\n"
     ]
    }
   ],
   "source": [
    "# We can use 'in' operator to test if a key exists in dictionary.\n",
    "print('Georgia' in capitals)\n",
    "print('Gujarat' in capitals)"
   ]
  },
  {
   "cell_type": "markdown",
   "metadata": {},
   "source": [
    "We can extend a dictionary using `update()` method, get values as a list with `values()` method and keys as list using `keys()` method. We can also get key-value pairs as tuple using `items()` method."
   ]
  },
  {
   "cell_type": "code",
   "execution_count": 135,
   "metadata": {
    "ExecuteTime": {
     "end_time": "2018-09-13T17:24:33.816865Z",
     "start_time": "2018-09-13T17:24:33.809046Z"
    }
   },
   "outputs": [
    {
     "data": {
      "text/plain": [
       "dict_values(['Ahmedabad', 'Ottawa', 'Nashville', 'Jackson'])"
      ]
     },
     "execution_count": 135,
     "metadata": {},
     "output_type": "execute_result"
    }
   ],
   "source": [
    "capitals.update({'Tennessee': 'Nashville', 'Mississippi': 'Jackson'})\n",
    "capitals.values()"
   ]
  },
  {
   "cell_type": "code",
   "execution_count": 136,
   "metadata": {
    "ExecuteTime": {
     "end_time": "2018-09-13T17:25:03.840765Z",
     "start_time": "2018-09-13T17:25:03.832542Z"
    }
   },
   "outputs": [
    {
     "data": {
      "text/plain": [
       "dict_keys(['Gujarat', 'Ontario', 'Tennessee', 'Mississippi'])"
      ]
     },
     "execution_count": 136,
     "metadata": {},
     "output_type": "execute_result"
    }
   ],
   "source": [
    "capitals.keys()"
   ]
  },
  {
   "cell_type": "code",
   "execution_count": 137,
   "metadata": {
    "ExecuteTime": {
     "end_time": "2018-09-13T17:25:07.337538Z",
     "start_time": "2018-09-13T17:25:07.328530Z"
    }
   },
   "outputs": [
    {
     "data": {
      "text/plain": [
       "dict_items([('Gujarat', 'Ahmedabad'), ('Ontario', 'Ottawa'), ('Tennessee', 'Nashville'), ('Mississippi', 'Jackson')])"
      ]
     },
     "execution_count": 137,
     "metadata": {},
     "output_type": "execute_result"
    }
   ],
   "source": [
    "capitals.items()"
   ]
  },
  {
   "cell_type": "code",
   "execution_count": 139,
   "metadata": {
    "ExecuteTime": {
     "end_time": "2018-09-13T17:27:07.732537Z",
     "start_time": "2018-09-13T17:27:07.723901Z"
    }
   },
   "outputs": [
    {
     "data": {
      "text/plain": [
       "{1: 1, 2: 4, 3: 9, 4: 16}"
      ]
     },
     "execution_count": 139,
     "metadata": {},
     "output_type": "execute_result"
    }
   ],
   "source": [
    "# Any sequence(list or tuple) of two-element sequences can be converted to a dictionary.\n",
    "dict([[1,1], [2,4], [3,9],[4,16]])"
   ]
  },
  {
   "cell_type": "code",
   "execution_count": 142,
   "metadata": {
    "ExecuteTime": {
     "end_time": "2018-09-13T17:28:07.067566Z",
     "start_time": "2018-09-13T17:28:07.061380Z"
    }
   },
   "outputs": [
    {
     "data": {
      "text/plain": [
       "{'a': '1', 'b': '2', 'c': '4'}"
      ]
     },
     "execution_count": 142,
     "metadata": {},
     "output_type": "execute_result"
    }
   ],
   "source": [
    "# Even a list of two-character strings can be converted to dict.\n",
    "dict(['a1','b2','c3','c4']) # the new pair overwrites older pair for 'c'"
   ]
  },
  {
   "cell_type": "markdown",
   "metadata": {},
   "source": [
    "**Sets** have no duplicates. They can be iterated over but can't be accessed by index. Sequence is not guaranteed. Set can be created using `set()` function and elements can be added with `add()` method."
   ]
  },
  {
   "cell_type": "code",
   "execution_count": 143,
   "metadata": {
    "ExecuteTime": {
     "end_time": "2018-09-13T17:30:06.528326Z",
     "start_time": "2018-09-13T17:30:06.514701Z"
    }
   },
   "outputs": [
    {
     "data": {
      "text/plain": [
       "{'Ally', 'Jally', 'Sally'}"
      ]
     },
     "execution_count": 143,
     "metadata": {},
     "output_type": "execute_result"
    }
   ],
   "source": [
    "names = set()\n",
    "names.add('Ally')\n",
    "names.add('Sally')\n",
    "names.add('Jally')\n",
    "names.add('Ally')\n",
    "names"
   ]
  },
  {
   "cell_type": "code",
   "execution_count": 144,
   "metadata": {
    "ExecuteTime": {
     "end_time": "2018-09-13T17:30:24.827607Z",
     "start_time": "2018-09-13T17:30:24.819380Z"
    }
   },
   "outputs": [
    {
     "data": {
      "text/plain": [
       "{1, 2, 3, 4, 5}"
      ]
     },
     "execution_count": 144,
     "metadata": {},
     "output_type": "execute_result"
    }
   ],
   "source": [
    "set([1,2,4,5,3,2,4])"
   ]
  },
  {
   "cell_type": "code",
   "execution_count": 145,
   "metadata": {
    "ExecuteTime": {
     "end_time": "2018-09-13T17:30:58.749937Z",
     "start_time": "2018-09-13T17:30:58.739449Z"
    }
   },
   "outputs": [
    {
     "data": {
      "text/plain": [
       "{2}"
      ]
     },
     "execution_count": 145,
     "metadata": {},
     "output_type": "execute_result"
    }
   ],
   "source": [
    "a = {1,2}\n",
    "b = {2,3}\n",
    "a & b # same  as a.intersection(b)"
   ]
  },
  {
   "cell_type": "code",
   "execution_count": 146,
   "metadata": {
    "ExecuteTime": {
     "end_time": "2018-09-13T17:31:08.182685Z",
     "start_time": "2018-09-13T17:31:08.175038Z"
    }
   },
   "outputs": [
    {
     "data": {
      "text/plain": [
       "{1, 2, 3}"
      ]
     },
     "execution_count": 146,
     "metadata": {},
     "output_type": "execute_result"
    }
   ],
   "source": [
    "a | b # same as a.union(b)"
   ]
  },
  {
   "cell_type": "code",
   "execution_count": 147,
   "metadata": {
    "ExecuteTime": {
     "end_time": "2018-09-13T17:31:24.075515Z",
     "start_time": "2018-09-13T17:31:24.071580Z"
    }
   },
   "outputs": [
    {
     "data": {
      "text/plain": [
       "{1}"
      ]
     },
     "execution_count": 147,
     "metadata": {},
     "output_type": "execute_result"
    }
   ],
   "source": [
    "a - b # same as a.difference(b)"
   ]
  },
  {
   "cell_type": "code",
   "execution_count": 148,
   "metadata": {
    "ExecuteTime": {
     "end_time": "2018-09-13T17:31:29.824558Z",
     "start_time": "2018-09-13T17:31:29.815435Z"
    }
   },
   "outputs": [
    {
     "data": {
      "text/plain": [
       "{1}"
      ]
     },
     "execution_count": 148,
     "metadata": {},
     "output_type": "execute_result"
    }
   ],
   "source": [
    "a.difference(b)"
   ]
  },
  {
   "cell_type": "code",
   "execution_count": 149,
   "metadata": {
    "ExecuteTime": {
     "end_time": "2018-09-13T17:31:44.784457Z",
     "start_time": "2018-09-13T17:31:44.777054Z"
    }
   },
   "outputs": [
    {
     "data": {
      "text/plain": [
       "{1, 3}"
      ]
     },
     "execution_count": 149,
     "metadata": {},
     "output_type": "execute_result"
    }
   ],
   "source": [
    "a ^ b # same as a.symmetric_difference(b)"
   ]
  },
  {
   "cell_type": "code",
   "execution_count": 150,
   "metadata": {
    "ExecuteTime": {
     "end_time": "2018-09-13T17:32:43.351019Z",
     "start_time": "2018-09-13T17:32:43.344824Z"
    }
   },
   "outputs": [
    {
     "data": {
      "text/plain": [
       "False"
      ]
     },
     "execution_count": 150,
     "metadata": {},
     "output_type": "execute_result"
    }
   ],
   "source": [
    "# A predicate functions asks a questions with a True or False answer.\n",
    "a <= b # a.issubset(b)"
   ]
  },
  {
   "cell_type": "code",
   "execution_count": 151,
   "metadata": {
    "ExecuteTime": {
     "end_time": "2018-09-13T17:32:49.429430Z",
     "start_time": "2018-09-13T17:32:49.424100Z"
    }
   },
   "outputs": [
    {
     "data": {
      "text/plain": [
       "False"
      ]
     },
     "execution_count": 151,
     "metadata": {},
     "output_type": "execute_result"
    }
   ],
   "source": [
    "a < b"
   ]
  },
  {
   "cell_type": "code",
   "execution_count": 152,
   "metadata": {
    "ExecuteTime": {
     "end_time": "2018-09-13T17:33:13.822686Z",
     "start_time": "2018-09-13T17:33:13.816714Z"
    }
   },
   "outputs": [
    {
     "data": {
      "text/plain": [
       "False"
      ]
     },
     "execution_count": 152,
     "metadata": {},
     "output_type": "execute_result"
    }
   ],
   "source": [
    "a >= b # a.issuperset(b)"
   ]
  },
  {
   "cell_type": "code",
   "execution_count": 153,
   "metadata": {
    "ExecuteTime": {
     "end_time": "2018-09-13T17:33:20.595381Z",
     "start_time": "2018-09-13T17:33:20.589579Z"
    }
   },
   "outputs": [
    {
     "data": {
      "text/plain": [
       "False"
      ]
     },
     "execution_count": 153,
     "metadata": {},
     "output_type": "execute_result"
    }
   ],
   "source": [
    "a > b # proper superset"
   ]
  },
  {
   "cell_type": "code",
   "execution_count": 155,
   "metadata": {
    "ExecuteTime": {
     "end_time": "2018-09-13T17:35:47.434074Z",
     "start_time": "2018-09-13T17:35:47.428468Z"
    }
   },
   "outputs": [],
   "source": [
    "# get help in iPython using \n",
    "sum?"
   ]
  },
  {
   "cell_type": "code",
   "execution_count": 157,
   "metadata": {
    "ExecuteTime": {
     "end_time": "2018-09-13T17:37:01.763938Z",
     "start_time": "2018-09-13T17:37:01.755523Z"
    }
   },
   "outputs": [
    {
     "name": "stderr",
     "output_type": "stream",
     "text": [
      "ERROR:root:File `'people.py'` not found.\n"
     ]
    }
   ],
   "source": [
    "# Run a python script within Python using:\n",
    "%run people.py # the file should be in the same directory"
   ]
  },
  {
   "cell_type": "code",
   "execution_count": 158,
   "metadata": {
    "ExecuteTime": {
     "end_time": "2018-09-13T17:37:28.736923Z",
     "start_time": "2018-09-13T17:37:28.728661Z"
    }
   },
   "outputs": [],
   "source": [
    "# get help with magic command with ?\n",
    "%cd?"
   ]
  },
  {
   "cell_type": "code",
   "execution_count": 159,
   "metadata": {
    "ExecuteTime": {
     "end_time": "2018-09-13T17:38:07.553587Z",
     "start_time": "2018-09-13T17:38:07.091533Z"
    }
   },
   "outputs": [
    {
     "name": "stdout",
     "output_type": "stream",
     "text": [
      "collinearPoints.ipynb  data.txt\t\t\t Untitled.ipynb\r\n",
      "data50.txt\t       non-collinear-points.jpg\r\n"
     ]
    }
   ],
   "source": [
    "# run a shell command by prepending with '!'\n",
    "!ls"
   ]
  },
  {
   "cell_type": "code",
   "execution_count": 162,
   "metadata": {
    "ExecuteTime": {
     "end_time": "2018-09-13T17:38:46.338838Z",
     "start_time": "2018-09-13T17:38:45.887530Z"
    }
   },
   "outputs": [
    {
     "name": "stdout",
     "output_type": "stream",
     "text": [
      "\u001b[0m\u001b[01;34mData\u001b[0m/  \u001b[01;31mData.tgz\u001b[0m  \u001b[01;34mpa1\u001b[0m/  \u001b[01;31mpa1.tgz\u001b[0m  \u001b[01;31mSection1Notebooks.tgz\u001b[0m  \u001b[01;34mSection1-Spark-Basics\u001b[0m/\r\n"
     ]
    }
   ],
   "source": [
    "%ls"
   ]
  },
  {
   "cell_type": "code",
   "execution_count": 168,
   "metadata": {
    "ExecuteTime": {
     "end_time": "2018-09-13T17:40:43.159359Z",
     "start_time": "2018-09-13T17:40:42.685716Z"
    }
   },
   "outputs": [
    {
     "name": "stdout",
     "output_type": "stream",
     "text": [
      "\u001b[0m\u001b[01;34mData\u001b[0m/  \u001b[01;31mData.tgz\u001b[0m  \u001b[01;34mpa1\u001b[0m/  \u001b[01;31mpa1.tgz\u001b[0m  \u001b[01;31mSection1Notebooks.tgz\u001b[0m  \u001b[01;34mSection1-Spark-Basics\u001b[0m/\r\n"
     ]
    }
   ],
   "source": [
    "ls # with automatic turned on, they can be executed as if they were python commands"
   ]
  },
  {
   "cell_type": "markdown",
   "metadata": {},
   "source": [
    "We can toggle automatic using \n",
    "`%automagic`"
   ]
  },
  {
   "cell_type": "code",
   "execution_count": 171,
   "metadata": {
    "ExecuteTime": {
     "end_time": "2018-09-13T17:41:56.008436Z",
     "start_time": "2018-09-13T17:41:56.003957Z"
    }
   },
   "outputs": [
    {
     "name": "stdout",
     "output_type": "stream",
     "text": [
      "\n",
      "Automagic is OFF, % prefix IS needed for line magics.\n"
     ]
    }
   ],
   "source": [
    "%automagic"
   ]
  },
  {
   "cell_type": "code",
   "execution_count": 173,
   "metadata": {
    "ExecuteTime": {
     "end_time": "2018-09-13T17:42:08.687124Z",
     "start_time": "2018-09-13T17:42:08.681295Z"
    }
   },
   "outputs": [
    {
     "name": "stdout",
     "output_type": "stream",
     "text": [
      "\n",
      "Automagic is ON, % prefix IS NOT needed for line magics.\n"
     ]
    }
   ],
   "source": [
    "%automagic"
   ]
  },
  {
   "cell_type": "markdown",
   "metadata": {},
   "source": [
    "These commands work with **automagic**. %cd, %cat, %cp, %env, %ls, %mkdir, %more, %mv, %pwd, %rm, %rmdir."
   ]
  },
  {
   "cell_type": "code",
   "execution_count": 175,
   "metadata": {
    "ExecuteTime": {
     "end_time": "2018-09-13T17:45:06.331889Z",
     "start_time": "2018-09-13T17:45:06.328746Z"
    }
   },
   "outputs": [],
   "source": [
    "# Enter a debug session with %debug"
   ]
  },
  {
   "cell_type": "code",
   "execution_count": null,
   "metadata": {
    "ExecuteTime": {
     "start_time": "2018-09-13T17:45:13.437Z"
    }
   },
   "outputs": [
    {
     "name": "stdout",
     "output_type": "stream",
     "text": [
      "> \u001b[0;32m<ipython-input-172-023cc93272e5>\u001b[0m(1)\u001b[0;36m<module>\u001b[0;34m()\u001b[0m\n",
      "\u001b[0;32m----> 1 \u001b[0;31m\u001b[0mls\u001b[0m\u001b[0;34m\u001b[0m\u001b[0m\n",
      "\u001b[0m\n",
      "ipdb> print(\"hello\")\n",
      "hello\n",
      "ipdb> \"helo\"  + 1\n",
      "*** TypeError: must be str, not int\n"
     ]
    }
   ],
   "source": [
    "%debug"
   ]
  },
  {
   "cell_type": "code",
   "execution_count": null,
   "metadata": {
    "ExecuteTime": {
     "start_time": "2018-09-13T17:51:58.248Z"
    }
   },
   "outputs": [],
   "source": [
    "%debug"
   ]
  },
  {
   "cell_type": "markdown",
   "metadata": {},
   "source": [
    "### Control Structures in Python"
   ]
  },
  {
   "cell_type": "markdown",
   "metadata": {},
   "source": [
    "In Python, boolean values have a 'bool' type. These are equivalent to False in Python.\n",
    "\n",
    "```python\n",
    "False\n",
    "None\n",
    "0\n",
    "\"\"\n",
    "[] # empty list\n",
    "() # empty tuple\n",
    "{} # empty dict\n",
    "set() # empty set\n",
    "```\n",
    "\n",
    "Python has logical operators `and` and `or`"
   ]
  },
  {
   "cell_type": "code",
   "execution_count": 3,
   "metadata": {
    "ExecuteTime": {
     "end_time": "2018-09-13T18:02:19.151181Z",
     "start_time": "2018-09-13T18:02:19.139312Z"
    }
   },
   "outputs": [
    {
     "name": "stdout",
     "output_type": "stream",
     "text": [
      "I'm not concerned about 3\n"
     ]
    }
   ],
   "source": [
    "num = 3\n",
    "if (num % 2) == 0:\n",
    "    print (\"I like \" + str(num)) # we cannot add number and string without converting number to string\n",
    "else:\n",
    "    print(\"I'm not concerned about \" + str(num))"
   ]
  },
  {
   "cell_type": "markdown",
   "metadata": {
    "ExecuteTime": {
     "end_time": "2018-09-13T18:02:16.036573Z",
     "start_time": "2018-09-13T18:02:16.032663Z"
    }
   },
   "source": [
    "We can also have nested if...else statements. There is also short-circuit evaluation which is quite shorter syntax.\n",
    "\n",
    "```python\n",
    "if (kids != 0) and ((pieces / kids) >= 2):\n",
    "    print(\"Each kid may have two pieces.\")"
   ]
  },
  {
   "cell_type": "markdown",
   "metadata": {},
   "source": [
    "**while loop** can be used to loop through some statements."
   ]
  },
  {
   "cell_type": "code",
   "execution_count": 6,
   "metadata": {
    "ExecuteTime": {
     "end_time": "2018-09-13T18:05:58.466419Z",
     "start_time": "2018-09-13T18:05:58.452434Z"
    }
   },
   "outputs": [
    {
     "name": "stdout",
     "output_type": "stream",
     "text": [
      "5\n",
      "4\n",
      "3\n",
      "2\n",
      "1\n",
      "Blast off!\n"
     ]
    }
   ],
   "source": [
    "def countdown(n):\n",
    "    while n > 0:\n",
    "        print(n)\n",
    "        n -= 1\n",
    "    print(\"Blast off!\")\n",
    "countdown(5)"
   ]
  },
  {
   "cell_type": "markdown",
   "metadata": {},
   "source": [
    "**for loop** is also used for easier iteration."
   ]
  },
  {
   "cell_type": "code",
   "execution_count": 7,
   "metadata": {
    "ExecuteTime": {
     "end_time": "2018-09-13T18:06:46.276814Z",
     "start_time": "2018-09-13T18:06:46.270891Z"
    }
   },
   "outputs": [
    {
     "name": "stdout",
     "output_type": "stream",
     "text": [
      "Giraffe\n",
      "Alligator\n",
      "Liger\n"
     ]
    }
   ],
   "source": [
    "animal = \"Peacock\"\n",
    "for animal in ['Giraffe', 'Alligator', 'Liger']:\n",
    "    print(animal)"
   ]
  },
  {
   "cell_type": "code",
   "execution_count": 8,
   "metadata": {
    "ExecuteTime": {
     "end_time": "2018-09-13T18:06:59.670010Z",
     "start_time": "2018-09-13T18:06:59.641666Z"
    }
   },
   "outputs": [
    {
     "data": {
      "text/plain": [
       "'Liger'"
      ]
     },
     "execution_count": 8,
     "metadata": {},
     "output_type": "execute_result"
    }
   ],
   "source": [
    "animal"
   ]
  },
  {
   "cell_type": "markdown",
   "metadata": {},
   "source": [
    "In Python, errors are handled using `try ... catch` statements.\n",
    "\n",
    "```python\n",
    "try:\n",
    "    # code that may throw errors\n",
    "except ExceptionType:\n",
    "    # code that handles those errors\n",
    "    # here ExceptionType is optional. If left, it will catch all exceptions.\n",
    "```"
   ]
  },
  {
   "cell_type": "code",
   "execution_count": 10,
   "metadata": {
    "ExecuteTime": {
     "end_time": "2018-09-13T18:12:35.373524Z",
     "start_time": "2018-09-13T18:12:28.286893Z"
    }
   },
   "outputs": [
    {
     "name": "stdout",
     "output_type": "stream",
     "text": [
      "Please enter a whole number.3.4\n",
      "3.4 is not a whole number. Try again\n",
      "Please enter a whole number.asdf\n",
      "asdf is not a whole number. Try again\n",
      "Please enter a whole number.3\n"
     ]
    },
    {
     "data": {
      "text/plain": [
       "3"
      ]
     },
     "execution_count": 10,
     "metadata": {},
     "output_type": "execute_result"
    }
   ],
   "source": [
    "def get_number_from_user():\n",
    "    input_is_invalid = True\n",
    "    while input_is_invalid:\n",
    "        num = input(\"Please enter a whole number.\")\n",
    "        try:\n",
    "            num = int(num)\n",
    "            input_is_invalid = False\n",
    "        except ValueError:\n",
    "            print(num + ' is not a whole number. Try again')\n",
    "    return num\n",
    "get_number_from_user()"
   ]
  },
  {
   "cell_type": "markdown",
   "metadata": {},
   "source": [
    "### Functional Programming\n",
    "\n",
    "Functions are first class, means they can be stored in variables, passed as arguments to another functions or returned from functions.\n",
    "\n",
    "**Higher order function** is a function that takes another function as a parameter or returns a function as a value. "
   ]
  },
  {
   "cell_type": "code",
   "execution_count": 11,
   "metadata": {
    "ExecuteTime": {
     "end_time": "2018-09-13T18:28:52.851856Z",
     "start_time": "2018-09-13T18:28:52.848216Z"
    }
   },
   "outputs": [],
   "source": [
    "import pprint as pp\n",
    "studs = [('Stan', 2.5, 'ISyE'), ('Kyle', 2.2, 'CS'), ('Cartman', 2.4, 'CmpE'), ('Kenny', 4.0, 'ME')]"
   ]
  },
  {
   "cell_type": "code",
   "execution_count": 12,
   "metadata": {
    "ExecuteTime": {
     "end_time": "2018-09-13T18:29:06.330558Z",
     "start_time": "2018-09-13T18:29:06.324699Z"
    }
   },
   "outputs": [
    {
     "name": "stdout",
     "output_type": "stream",
     "text": [
      "[('Cartman', 2.4, 'CmpE'),\n",
      " ('Kenny', 4.0, 'ME'),\n",
      " ('Kyle', 2.2, 'CS'),\n",
      " ('Stan', 2.5, 'ISyE')]\n"
     ]
    }
   ],
   "source": [
    "pp.pprint(sorted(studs))"
   ]
  },
  {
   "cell_type": "code",
   "execution_count": 14,
   "metadata": {
    "ExecuteTime": {
     "end_time": "2018-09-13T18:29:44.162439Z",
     "start_time": "2018-09-13T18:29:44.155060Z"
    }
   },
   "outputs": [
    {
     "name": "stdout",
     "output_type": "stream",
     "text": [
      "[('Kyle', 2.2, 'CS'),\n",
      " ('Cartman', 2.4, 'CmpE'),\n",
      " ('Stan', 2.5, 'ISyE'),\n",
      " ('Kenny', 4.0, 'ME')]\n"
     ]
    }
   ],
   "source": [
    "def by_gpa(stud):\n",
    "    return stud[1]\n",
    "pp.pprint(sorted(studs, key=by_gpa))"
   ]
  },
  {
   "cell_type": "code",
   "execution_count": 15,
   "metadata": {
    "ExecuteTime": {
     "end_time": "2018-09-13T18:32:45.149367Z",
     "start_time": "2018-09-13T18:32:45.132030Z"
    }
   },
   "outputs": [
    {
     "name": "stdout",
     "output_type": "stream",
     "text": [
      "[('Kyle', 2.2, 'CS'),\n",
      " ('Cartman', 2.4, 'CmpE'),\n",
      " ('Stan', 2.5, 'ISyE'),\n",
      " ('Kenny', 4.0, 'ME')]\n"
     ]
    }
   ],
   "source": [
    "pp.pprint(sorted(studs, key=lambda t: t[1]))"
   ]
  },
  {
   "cell_type": "code",
   "execution_count": 16,
   "metadata": {
    "ExecuteTime": {
     "end_time": "2018-09-13T18:41:18.927388Z",
     "start_time": "2018-09-13T18:41:18.919568Z"
    }
   },
   "outputs": [
    {
     "data": {
      "text/plain": [
       "['STARK', 'LANNISTER', 'TARGARYEN']"
      ]
     },
     "execution_count": 16,
     "metadata": {},
     "output_type": "execute_result"
    }
   ],
   "source": [
    "houses = ['Stark', 'Lannister', 'Targaryen']\n",
    "shout = []\n",
    "for house in houses:\n",
    "    shout.append(house.upper())\n",
    "shout"
   ]
  },
  {
   "cell_type": "code",
   "execution_count": 17,
   "metadata": {
    "ExecuteTime": {
     "end_time": "2018-09-13T18:42:04.881296Z",
     "start_time": "2018-09-13T18:42:04.875687Z"
    }
   },
   "outputs": [
    {
     "data": {
      "text/plain": [
       "['STARK', 'LANNISTER', 'TARGARYEN']"
      ]
     },
     "execution_count": 17,
     "metadata": {},
     "output_type": "execute_result"
    }
   ],
   "source": [
    "# In functional manner mapping:\n",
    "list(map(lambda house: house.upper(), houses))"
   ]
  },
  {
   "cell_type": "code",
   "execution_count": 20,
   "metadata": {
    "ExecuteTime": {
     "end_time": "2018-09-13T18:42:56.920598Z",
     "start_time": "2018-09-13T18:42:56.914407Z"
    }
   },
   "outputs": [
    {
     "data": {
      "text/plain": [
       "[0, 2, 4, 2, 4, 56]"
      ]
     },
     "execution_count": 20,
     "metadata": {},
     "output_type": "execute_result"
    }
   ],
   "source": [
    "# filter operation on list\n",
    "nums = [0,1,2,4,2,3,4,56,5]\n",
    "list(filter(lambda x: x % 2 ==0, nums))"
   ]
  },
  {
   "cell_type": "code",
   "execution_count": 21,
   "metadata": {
    "ExecuteTime": {
     "end_time": "2018-09-13T18:43:57.299860Z",
     "start_time": "2018-09-13T18:43:57.290497Z"
    }
   },
   "outputs": [
    {
     "data": {
      "text/plain": [
       "[100, 90, 0, 80]"
      ]
     },
     "execution_count": 21,
     "metadata": {},
     "output_type": "execute_result"
    }
   ],
   "source": [
    "# list comprehension\n",
    "grades = [100, 90, 0, 80]\n",
    "[x for x in grades]"
   ]
  },
  {
   "cell_type": "code",
   "execution_count": 22,
   "metadata": {
    "ExecuteTime": {
     "end_time": "2018-09-13T18:44:06.443666Z",
     "start_time": "2018-09-13T18:44:06.434868Z"
    }
   },
   "outputs": [
    {
     "data": {
      "text/plain": [
       "[110, 100, 10, 90]"
      ]
     },
     "execution_count": 22,
     "metadata": {},
     "output_type": "execute_result"
    }
   ],
   "source": [
    "[x + 10 for x in grades]"
   ]
  },
  {
   "cell_type": "code",
   "execution_count": 23,
   "metadata": {
    "ExecuteTime": {
     "end_time": "2018-09-13T18:44:22.457791Z",
     "start_time": "2018-09-13T18:44:22.449690Z"
    }
   },
   "outputs": [
    {
     "data": {
      "text/plain": [
       "[50]"
      ]
     },
     "execution_count": 23,
     "metadata": {},
     "output_type": "execute_result"
    }
   ],
   "source": [
    "[x + 50 for x in grades if x < 50]"
   ]
  },
  {
   "cell_type": "code",
   "execution_count": 24,
   "metadata": {
    "ExecuteTime": {
     "end_time": "2018-09-13T18:45:25.890595Z",
     "start_time": "2018-09-13T18:45:25.882947Z"
    }
   },
   "outputs": [
    {
     "data": {
      "text/plain": [
       "[('Stark', 'Winter is coming'),\n",
       " ('Lannister', 'Hear me loud'),\n",
       " ('Targaryen', 'Fire and blood')]"
      ]
     },
     "execution_count": 24,
     "metadata": {},
     "output_type": "execute_result"
    }
   ],
   "source": [
    "words = ['Winter is coming', 'Hear me loud', 'Fire and blood']\n",
    "list(zip(houses, words))"
   ]
  },
  {
   "cell_type": "code",
   "execution_count": 26,
   "metadata": {
    "ExecuteTime": {
     "end_time": "2018-09-13T18:46:00.136065Z",
     "start_time": "2018-09-13T18:46:00.127059Z"
    }
   },
   "outputs": [
    {
     "data": {
      "text/plain": [
       "{'Lannister': 'Hear me loud',\n",
       " 'Stark': 'Winter is coming',\n",
       " 'Targaryen': 'Fire and blood'}"
      ]
     },
     "execution_count": 26,
     "metadata": {},
     "output_type": "execute_result"
    }
   ],
   "source": [
    "# create dictionary with two lists\n",
    "house2words = {house: words for house, words in zip(houses, words)}\n",
    "house2words"
   ]
  },
  {
   "cell_type": "code",
   "execution_count": 27,
   "metadata": {
    "ExecuteTime": {
     "end_time": "2018-09-13T18:46:41.338675Z",
     "start_time": "2018-09-13T18:46:41.332255Z"
    }
   },
   "outputs": [
    {
     "data": {
      "text/plain": [
       "{'Lannister': 'Hear me loud',\n",
       " 'Stark': 'Winter is coming',\n",
       " 'Targaryen': 'Fire and blood'}"
      ]
     },
     "execution_count": 27,
     "metadata": {},
     "output_type": "execute_result"
    }
   ],
   "source": [
    "dict(zip(houses,words))"
   ]
  },
  {
   "cell_type": "code",
   "execution_count": 28,
   "metadata": {
    "ExecuteTime": {
     "end_time": "2018-09-13T18:47:53.186030Z",
     "start_time": "2018-09-13T18:47:53.179350Z"
    }
   },
   "outputs": [
    {
     "data": {
      "text/plain": [
       "15"
      ]
     },
     "execution_count": 28,
     "metadata": {},
     "output_type": "execute_result"
    }
   ],
   "source": [
    "import functools\n",
    "functools.reduce(lambda x,y: x+y, [0,1,2,3,4,5])"
   ]
  },
  {
   "cell_type": "code",
   "execution_count": 29,
   "metadata": {
    "ExecuteTime": {
     "end_time": "2018-09-13T18:48:34.843216Z",
     "start_time": "2018-09-13T18:48:34.834888Z"
    }
   },
   "outputs": [
    {
     "data": {
      "text/plain": [
       "120"
      ]
     },
     "execution_count": 29,
     "metadata": {},
     "output_type": "execute_result"
    }
   ],
   "source": [
    "# factorial in functional manner\n",
    "functools.reduce(lambda x,y: x*y, [1,2,3,4,5])"
   ]
  },
  {
   "cell_type": "raw",
   "metadata": {},
   "source": []
  }
 ],
 "metadata": {
  "kernelspec": {
   "display_name": "Python 3",
   "language": "python",
   "name": "python3"
  },
  "language_info": {
   "codemirror_mode": {
    "name": "ipython",
    "version": 3
   },
   "file_extension": ".py",
   "mimetype": "text/x-python",
   "name": "python",
   "nbconvert_exporter": "python",
   "pygments_lexer": "ipython3",
   "version": "3.6.5"
  },
  "toc": {
   "base_numbering": 1,
   "nav_menu": {},
   "number_sections": true,
   "sideBar": true,
   "skip_h1_title": false,
   "title_cell": "Table of Contents",
   "title_sidebar": "Contents",
   "toc_cell": false,
   "toc_position": {},
   "toc_section_display": true,
   "toc_window_display": false
  },
  "varInspector": {
   "cols": {
    "lenName": 16,
    "lenType": 16,
    "lenVar": 40
   },
   "kernels_config": {
    "python": {
     "delete_cmd_postfix": "",
     "delete_cmd_prefix": "del ",
     "library": "var_list.py",
     "varRefreshCmd": "print(var_dic_list())"
    },
    "r": {
     "delete_cmd_postfix": ") ",
     "delete_cmd_prefix": "rm(",
     "library": "var_list.r",
     "varRefreshCmd": "cat(var_dic_list()) "
    }
   },
   "types_to_exclude": [
    "module",
    "function",
    "builtin_function_or_method",
    "instance",
    "_Feature"
   ],
   "window_display": false
  }
 },
 "nbformat": 4,
 "nbformat_minor": 2
}
