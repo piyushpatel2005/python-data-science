{
 "cells": [
  {
   "cell_type": "markdown",
   "metadata": {},
   "source": [
    "# Tensorflow\n",
    "\n",
    "Tensorflow is open source library for numerical computation using data flow graphs. It's data model comprises of tensors, which are basic data units created, manipulated and saved in Tensorflow program. Programming model consists of data flow graphs. Execution model consists of firing nodes of a computation graph in a sequence of dependence."
   ]
  },
  {
   "cell_type": "code",
   "execution_count": 1,
   "metadata": {},
   "outputs": [],
   "source": [
    "import tensorflow as tf"
   ]
  },
  {
   "cell_type": "markdown",
   "metadata": {},
   "source": [
    "You can create interactive Tensorflow session using `tfs = tf.InteractiveSession()`. The only difference is that with Interactive session, we get results instantaneously."
   ]
  },
  {
   "cell_type": "code",
   "execution_count": 2,
   "metadata": {},
   "outputs": [],
   "source": [
    "tfs = tf.InteractiveSession()"
   ]
  },
  {
   "cell_type": "code",
   "execution_count": 3,
   "metadata": {},
   "outputs": [],
   "source": [
    "hello = tf.constant(\"Hello tensorflow\")"
   ]
  },
  {
   "cell_type": "code",
   "execution_count": 4,
   "metadata": {},
   "outputs": [
    {
     "name": "stdout",
     "output_type": "stream",
     "text": [
      "Hello tensorflow\n"
     ]
    }
   ],
   "source": [
    "print(tfs.run(hello))"
   ]
  },
  {
   "cell_type": "markdown",
   "metadata": {},
   "source": [
    "**Tensors** are basic elements of computation and a fundamental data structure in Tensorflow. A tensor is an n-dimensional collection of data, identified ny rank, shape and type. *Rank* is the dimension of a tensor, *shape* is the list denoting size in each dimension. A scalar value in a tensor is of rank 0 and has shape of [1]."
   ]
  },
  {
   "cell_type": "markdown",
   "metadata": {},
   "source": [
    "Tensorflow can be created in following ways.\n",
    "- By defining constants, operations and variables and passing the values to their constructor.\n",
    "- By defining placeholders and passing the values to `session.run()`.\n",
    "- By converting Python objects with `tf.convert_to_tensor()` function.\n",
    "\n",
    "Constant valued tensor is created using `tf.constant(value, dtype=None, shape=None, name='Const', verify_shape=False)`"
   ]
  },
  {
   "cell_type": "code",
   "execution_count": 6,
   "metadata": {},
   "outputs": [],
   "source": [
    "c1 = tf.constant(5, name='x')\n",
    "c2 = tf.constant(6.0, name='y')\n",
    "c3 = tf.constant(7.0, tf.float32, name='z')"
   ]
  },
  {
   "cell_type": "code",
   "execution_count": 8,
   "metadata": {},
   "outputs": [
    {
     "name": "stdout",
     "output_type": "stream",
     "text": [
      "Tensor(\"x:0\", shape=(), dtype=int32)\n",
      "Tensor(\"y:0\", shape=(), dtype=float32)\n",
      "Tensor(\"z:0\", shape=(), dtype=float32)\n"
     ]
    }
   ],
   "source": [
    "print(c1); print(c2); print(c3);"
   ]
  },
  {
   "cell_type": "markdown",
   "metadata": {},
   "source": [
    "In order to populate these tensors with value, we need to run it through session."
   ]
  },
  {
   "cell_type": "code",
   "execution_count": 9,
   "metadata": {},
   "outputs": [
    {
     "name": "stdout",
     "output_type": "stream",
     "text": [
      "[5, 6.0, 7.0]\n"
     ]
    }
   ],
   "source": [
    "print(tfs.run([c1, c2, c3]))"
   ]
  },
  {
   "cell_type": "code",
   "execution_count": null,
   "metadata": {},
   "outputs": [],
   "source": []
  }
 ],
 "metadata": {
  "kernelspec": {
   "display_name": "Python 3",
   "language": "python",
   "name": "python3"
  },
  "language_info": {
   "codemirror_mode": {
    "name": "ipython",
    "version": 2
   },
   "file_extension": ".py",
   "mimetype": "text/x-python",
   "name": "python",
   "nbconvert_exporter": "python",
   "pygments_lexer": "ipython2",
   "version": "2.7.16"
  }
 },
 "nbformat": 4,
 "nbformat_minor": 2
}
